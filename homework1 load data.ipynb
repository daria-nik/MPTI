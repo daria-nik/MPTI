{
 "cells": [
  {
   "cell_type": "code",
   "execution_count": 220,
   "id": "36973878-d135-4112-b108-a04e5a159cbb",
   "metadata": {},
   "outputs": [],
   "source": [
    "import pandas as pd\n",
    "import psycopg2 as pg\n",
    "import numpy as np"
   ]
  },
  {
   "cell_type": "code",
   "execution_count": 221,
   "id": "dbb08915-9a9d-490d-9321-ec91fd5d55ab",
   "metadata": {},
   "outputs": [],
   "source": [
    "conn = pg.connect(dbname='db', host='localhost', user='postgres', password=';qxzell', port=5432)\n",
    "cursor = conn.cursor()"
   ]
  },
  {
   "cell_type": "code",
   "execution_count": 222,
   "id": "e43525d0-6224-4cc0-8665-a485f83d2ce3",
   "metadata": {},
   "outputs": [],
   "source": [
    "excel_file = '/Users/daria/Downloads/customer_and_transaction.xlsx'\n",
    "df = pd.read_excel(excel_file, sheet_name=['transaction', 'customer'])"
   ]
  },
  {
   "cell_type": "code",
   "execution_count": 223,
   "id": "2e1f2474-4661-4d50-868f-8a5bff7b9c3e",
   "metadata": {},
   "outputs": [],
   "source": [
    "df_customers = df['customer']\n",
    "df_transactions = df['transaction']"
   ]
  },
  {
   "cell_type": "code",
   "execution_count": 224,
   "id": "1a1f91ca-8c4e-4953-b81d-c0f2a00ab644",
   "metadata": {},
   "outputs": [],
   "source": [
    "for _, row in df_customers.iterrows():\n",
    "    cursor.execute(\"\"\"\n",
    "        INSERT INTO states (state) VALUES (%s)\n",
    "        ON CONFLICT (state_id) DO NOTHING;\n",
    "    \"\"\", (row['state'],))\n",
    "conn.commit()"
   ]
  },
  {
   "cell_type": "code",
   "execution_count": 225,
   "id": "5bb8f60f-6d57-4128-9ace-8a0716a2f396",
   "metadata": {},
   "outputs": [],
   "source": [
    "for _, row in df_customers.iterrows():\n",
    "    cursor.execute(\"\"\"\n",
    "        INSERT INTO countries (country) VALUES (%s)\n",
    "        ON CONFLICT (country_id) DO NOTHING;\n",
    "    \"\"\", (row['country'],))\n",
    "conn.commit()"
   ]
  },
  {
   "cell_type": "code",
   "execution_count": 226,
   "id": "2556f348-96f3-4075-abb2-52e7cde4f994",
   "metadata": {},
   "outputs": [],
   "source": [
    "for _, row in df_customers.iterrows():\n",
    "    # Get state_id and country_id\n",
    "    cursor.execute(\"SELECT state_id FROM states WHERE state = %s;\", (row['state'],))\n",
    "    state_id = cursor.fetchone()\n",
    "    state_id = state_id[0] if state_id else None\n",
    "\n",
    "    cursor.execute(\"SELECT country_id FROM countries WHERE country = %s;\", (row['country'],))\n",
    "    country_id = cursor.fetchone()\n",
    "    country_id = country_id[0] if country_id else None\n",
    "\n",
    "    cursor.execute(\"\"\"\n",
    "        INSERT INTO addresses (address, postcode, state_id, country_id) \n",
    "        VALUES (%s, %s, %s, %s)\n",
    "        ON CONFLICT (address_id) DO NOTHING;\n",
    "    \"\"\", (row['address'], row['postcode'], state_id, country_id))\n",
    "conn.commit()"
   ]
  },
  {
   "cell_type": "code",
   "execution_count": 227,
   "id": "2c25dc89-5350-4128-902b-8f22ed1600e9",
   "metadata": {},
   "outputs": [],
   "source": [
    "for _, row in df_customers.iterrows():\n",
    "    cursor.execute(\"\"\"\n",
    "        INSERT INTO jobs (job_title, job_industry_category) VALUES (%s, %s)\n",
    "        ON CONFLICT (job_id) DO NOTHING;\n",
    "    \"\"\", (row['job_title'], row['job_industry_category']))\n",
    "conn.commit()"
   ]
  },
  {
   "cell_type": "code",
   "execution_count": 228,
   "id": "8a3edae2-50d6-4b77-88ac-024da4192718",
   "metadata": {},
   "outputs": [],
   "source": [
    "for _, row in df_transactions.iterrows():\n",
    "    cursor.execute(\"\"\"\n",
    "        INSERT INTO brands (brand) VALUES (%s)\n",
    "        ON CONFLICT (brand_id) DO NOTHING;\n",
    "    \"\"\", (row['brand'],))\n",
    "conn.commit()"
   ]
  },
  {
   "cell_type": "code",
   "execution_count": 229,
   "id": "23d55cb8-3a48-4f4c-b05b-ce1f670912f7",
   "metadata": {},
   "outputs": [
    {
     "name": "stdout",
     "output_type": "stream",
     "text": [
      "['Solex' 'Trek Bicycles' 'OHM Cycles' 'Norco Bicycles' 'Giant Bicycles'\n",
      " 'WeareA2B' nan]\n"
     ]
    }
   ],
   "source": [
    "print(df_transactions['brand'].unique())  "
   ]
  },
  {
   "cell_type": "code",
   "execution_count": 230,
   "id": "f92dbd67-15c7-4ef7-a3a7-083c48d47b21",
   "metadata": {
    "scrolled": true
   },
   "outputs": [],
   "source": [
    "df_transactions['brand'] = df_transactions['brand'].fillna('Unknown Brand').str.strip()\n",
    "\n",
    "for _, row in df_transactions.iterrows():\n",
    "    # Fetch brand_id from the brands table\n",
    "    cursor.execute(\"SELECT brand_id FROM brands WHERE brand = %s;\", (row['brand'],))\n",
    "    brand_id = cursor.fetchone()\n",
    "\n",
    "    if brand_id is not None:\n",
    "        brand_id = int(brand_id[0])  \n",
    "    else: \n",
    "        continue \n",
    "\n",
    "    row_values = (\n",
    "        row['product_id'], \n",
    "        row['product_line'], \n",
    "        row['product_class'], \n",
    "        row['product_size'], \n",
    "        None if pd.isna(row['list_price']) else row['list_price'],\n",
    "        None if pd.isna(row['standard_cost']) else row['standard_cost'],\n",
    "        brand_id\n",
    "    )\n",
    "\n",
    "    cursor.execute(\"\"\"\n",
    "        INSERT INTO products (product_id, product_line, product_class, product_size, list_price, standard_cost, brand_id) \n",
    "        VALUES (%s, %s, %s, %s, %s, %s, %s)\n",
    "        ON CONFLICT (product_id) DO NOTHING;\n",
    "    \"\"\", row_values)\n",
    "\n",
    "\n",
    "conn.commit()\n",
    "\n"
   ]
  },
  {
   "cell_type": "code",
   "execution_count": 231,
   "id": "a98fc3e5-a0f3-4933-ad20-0c88c209fa55",
   "metadata": {
    "scrolled": true
   },
   "outputs": [],
   "source": [
    "for _, row in df_customers.iterrows():\n",
    "    job_title = row['job_title'] if pd.notnull(row['job_title']) else None\n",
    "\n",
    "    if job_title:\n",
    "        cursor.execute(\"SELECT job_id FROM jobs WHERE job_title = %s;\", (job_title,))\n",
    "        job_id = cursor.fetchone()\n",
    "        job_id = job_id[0] if job_id is not None else 1  \n",
    "    else:\n",
    "        job_id = 1  # assign \"Unknown Job\"\n",
    "\n",
    "    cursor.execute(\"SELECT address_id FROM addresses WHERE address = %s;\", (row['address'],))\n",
    "    address_id = cursor.fetchone()\n",
    "    address_id = address_id[0] if address_id is not None else None\n",
    "\n",
    "    if address_id is None:\n",
    "        continue\n",
    "\n",
    "    gender = str(row['gender']).strip().title() if pd.notnull(row['gender']) else 'Unknown'\n",
    "    if gender not in ['Male', 'Female']:\n",
    "        gender = 'Unknown' \n",
    "\n",
    "    dob = pd.to_datetime(row['DOB']).date() if pd.notnull(row['DOB']) else None\n",
    "\n",
    "    owns_car = True if str(row['owns_car']).strip().lower() == 'yes' else False\n",
    "\n",
    "    cursor.execute(\"\"\"\n",
    "        INSERT INTO customers (customer_id, first_name, last_name, gender, DOB, job_id, wealth_segment, deceased_indicator, owns_car, address_id)\n",
    "        VALUES (%s, %s, %s, %s, %s, %s, %s, %s, %s, %s)\n",
    "        ON CONFLICT (customer_id) DO UPDATE SET\n",
    "            gender = EXCLUDED.gender;\n",
    "    \"\"\", (\n",
    "        row['customer_id'], row['first_name'], row['last_name'], gender,\n",
    "        dob, job_id, row['wealth_segment'], row['deceased_indicator'], owns_car, address_id\n",
    "    ))\n",
    "\n",
    "conn.commit()\n"
   ]
  },
  {
   "cell_type": "code",
   "execution_count": 232,
   "id": "9720aced-e486-48f7-a462-7b5d75085a1e",
   "metadata": {},
   "outputs": [],
   "source": [
    "for _, row in df_customers.iterrows():\n",
    "    cursor.execute(\"SELECT customer_id FROM customers WHERE customer_id = %s;\", (row['customer_id'],))\n",
    "    customer_id = cursor.fetchone()\n",
    "    customer_id = customer_id[0] if customer_id is not None else None\n",
    "\n",
    "    if customer_id is None:\n",
    "        print(f\"Skipping property entry due to missing customer_id: {row['customer_id']}\")\n",
    "        continue\n",
    "\n",
    "    property_valuation = int(row['property_valuation']) if pd.notnull(row['property_valuation']) else None\n",
    "\n",
    "    cursor.execute(\"\"\"\n",
    "        INSERT INTO property (customer_id, property_valuation)\n",
    "        VALUES (%s, %s)\n",
    "        ON CONFLICT DO NOTHING;\n",
    "    \"\"\", (customer_id, property_valuation))\n",
    "\n",
    "conn.commit()\n"
   ]
  },
  {
   "cell_type": "code",
   "execution_count": 255,
   "id": "a721c0e7-6d2c-44d7-966b-dee9848e054a",
   "metadata": {},
   "outputs": [
    {
     "name": "stdout",
     "output_type": "stream",
     "text": [
      "skipping transaction 8708 due to missing customer_id: 5034\n",
      "skipping transaction 16701 due to missing customer_id: 5034\n",
      "skipping transaction 17469 due to missing customer_id: 5034\n"
     ]
    }
   ],
   "source": [
    "for _, row in df_transactions.iterrows():\n",
    "        transaction_id = int(row['transaction_id']) if pd.notnull(row['transaction_id']) else None\n",
    "        if transaction_id is None:\n",
    "            print(\"skipping due to missing transaction_id.\")\n",
    "            continue\n",
    "\n",
    "        cursor.execute(\"SELECT customer_id FROM customers WHERE customer_id = %s;\", (row['customer_id'],))\n",
    "        customer_id = cursor.fetchone()\n",
    "        customer_id = customer_id[0] if customer_id is not None else None\n",
    "\n",
    "        if customer_id is None:\n",
    "            print(f\"skipping transaction {transaction_id} due to missing customer_id: {row['customer_id']}\")\n",
    "            continue\n",
    "\n",
    "        cursor.execute(\"SELECT product_id FROM products WHERE product_id = %s;\", (row['product_id'],))\n",
    "        product_id = cursor.fetchone()\n",
    "        product_id = product_id[0] if product_id is not None else None\n",
    "\n",
    "        if product_id is None:\n",
    "            print(f\"skipping transaction {transaction_id} due to missing product_id: {row['product_id']}\")\n",
    "            continue\n",
    "\n",
    "        transaction_date = pd.to_datetime(row['transaction_date']).date() if pd.notnull(row['transaction_date']) else None\n",
    "\n",
    "\n",
    "        online_order = str(row['online_order']).strip().lower() if pd.notnull(row['online_order']) else None\n",
    "        online_order = True if online_order == 'true' else False\n",
    "\n",
    "        order_status = str(row['order_status']).strip().title() if pd.notnull(row['order_status']) else 'Unknown'\n",
    "\n",
    "        cursor.execute(\"\"\"\n",
    "            INSERT INTO transactions (transaction_id, product_id, customer_id, transaction_date, online_order, order_status)\n",
    "            VALUES (%s, %s, %s, %s, %s, %s)\n",
    "            ON CONFLICT (transaction_id) DO UPDATE\n",
    "            SET product_id = EXCLUDED.product_id,\n",
    "                customer_id = EXCLUDED.customer_id,\n",
    "                transaction_date = EXCLUDED.transaction_date,\n",
    "                online_order = EXCLUDED.online_order,\n",
    "                order_status = EXCLUDED.order_status;\n",
    "        \"\"\", (transaction_id, product_id, customer_id, transaction_date, online_order, order_status))\n",
    "\n",
    "        conn.commit()\n",
    "\n",
    "\n"
   ]
  },
  {
   "cell_type": "code",
   "execution_count": null,
   "id": "70f02618-c72c-45f7-a50d-1618241f89ef",
   "metadata": {},
   "outputs": [],
   "source": []
  }
 ],
 "metadata": {
  "kernelspec": {
   "display_name": "Python 3 (ipykernel)",
   "language": "python",
   "name": "python3"
  },
  "language_info": {
   "codemirror_mode": {
    "name": "ipython",
    "version": 3
   },
   "file_extension": ".py",
   "mimetype": "text/x-python",
   "name": "python",
   "nbconvert_exporter": "python",
   "pygments_lexer": "ipython3",
   "version": "3.12.4"
  }
 },
 "nbformat": 4,
 "nbformat_minor": 5
}
